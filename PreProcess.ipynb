{
 "cells": [
  {
   "cell_type": "code",
   "execution_count": 73,
   "id": "5ec21465",
   "metadata": {},
   "outputs": [
    {
     "name": "stdout",
     "output_type": "stream",
     "text": [
      "['sample_submission.csv', 'test.csv', 'test_images', 'train.csv', 'train_images']\n"
     ]
    }
   ],
   "source": [
    "# This Python 3 environment comes with many helpful analytics libraries installed\n",
    "# It is defined by the kaggle/python docker image: https://github.com/kaggle/docker-python\n",
    "# For example, here's several helpful packages to load in \n",
    "\n",
    "import numpy as np # linear algebra\n",
    "import pandas as pd # data processing, CSV file I/O (e.g. pd.read_csv)\n",
    "\n",
    "# Input data files are available in the \"../input/\" directory.\n",
    "# For example, running this (by clicking run or pressing Shift+Enter) will list the files in the input directory\n",
    "\n",
    "import os\n",
    "print(os.listdir(\"input\"))\n",
    "\n",
    "# Any results you write to the current directory are saved as output."
   ]
  },
  {
   "cell_type": "code",
   "execution_count": 74,
   "id": "911fcb73",
   "metadata": {},
   "outputs": [],
   "source": [
    "#一些基础的引用\n",
    "#一些基础的设置"
   ]
  },
  {
   "cell_type": "code",
   "execution_count": 75,
   "id": "f2925dfd",
   "metadata": {},
   "outputs": [],
   "source": [
    "import os, sys\n",
    "import numpy as np\n",
    "import pandas as pd\n",
    "import matplotlib.pyplot as plt\n",
    "import skimage.io\n",
    "from skimage.transform import resize\n",
    "from tqdm import tqdm\n",
    "import PIL\n",
    "from PIL import Image, ImageOps\n",
    "import cv2\n",
    "from sklearn.utils import class_weight, shuffle\n",
    "\n",
    "from sklearn.model_selection import train_test_split\n",
    "\n",
    "WORKERS = 2\n",
    "CHANNEL = 3\n",
    "\n",
    "import warnings\n",
    "warnings.filterwarnings(\"ignore\")\n",
    "IMG_SIZE = 512\n",
    "NUM_CLASSES = 5\n",
    "SEED = 77\n",
    "#seed相当于打乱的作用\n",
    "TRAIN_NUM = -1 # use 1000 when you just want to explore new idea, use -1 for full train"
   ]
  },
  {
   "cell_type": "code",
   "execution_count": 76,
   "id": "1f4319e8",
   "metadata": {},
   "outputs": [],
   "source": [
    "df_train = pd.read_csv('input/train.csv')\n",
    "x = df_train['id_code']\n",
    "y = df_train['diagnosis']\n",
    "x, y = shuffle(x, y, random_state=SEED)\n",
    "#打乱顺序（不知道为啥"
   ]
  },
  {
   "cell_type": "code",
   "execution_count": 77,
   "id": "a0caa4ff",
   "metadata": {},
   "outputs": [],
   "source": [
    "def load_ben_color(path, sigmaX=10):\n",
    "    image = cv2.imread(path)\n",
    "    image = cv2.cvtColor(image, cv2.COLOR_BGR2RGB)\n",
    "    image = crop_image_from_gray(image)\n",
    "    image = cv2.resize(image, (IMG_SIZE, IMG_SIZE))\n",
    "    image=cv2.addWeighted ( image,4, cv2.GaussianBlur( image , (0,0) , sigmaX) ,-4 ,128)\n",
    "        \n",
    "    return image\n",
    "#一个叫load_ben_color的函数用来更改颜色"
   ]
  },
  {
   "cell_type": "code",
   "execution_count": 78,
   "id": "53b27384",
   "metadata": {
    "scrolled": true
   },
   "outputs": [
    {
     "name": "stdout",
     "output_type": "stream",
     "text": [
      "CPU times: total: 0 ns\n",
      "Wall time: 0 ns\n"
     ]
    }
   ],
   "source": [
    "%%time\n",
    "#用来调用上文中的函数\n",
    "#修改使它可以应用到所有的图片中\n",
    "#fig = plt.figure(figsize=(25, 16))\n",
    "#for class_id in sorted(train_y.unique()):\n",
    "    #for i, (idx, row) in enumerate(df_train.loc[df_train['diagnosis'] == class_id].iterrows()):\n",
    "       # ax = fig.add_subplot(6,6, class_id * 6 + i + 1, xticks=[], yticks=[])\n",
    "        #path=f\"input/train_images/{row['id_code']}.png\"\n",
    "       #image = cv2.imread(path)\n",
    "        #image = cv2.cvtColor(image, cv2.COLOR_BGR2GRAY)\n",
    "        #image = cv2.resize(image, (IMG_SIZE, IMG_SIZE))\n",
    "        #image=cv2.addWeighted ( image,4, cv2.GaussianBlur( image , (0,0) , IMG_SIZE/10) ,-4 ,128) # the trick is to add this line\n",
    "       # cv2.imwrite('%s.jpg'%({row['id_code']}),image)\n",
    "        #cv2.imwrite(\"1.jpg\",img)  #将图片保存为1.jpg\n",
    "        #plt.imshow(image, cmap='gray')\n",
    "        #img.save(\"1.jpg\")      #将图片保存为1.jpg\n",
    "       # ax.set_title('Label: %d-%d-%s' % (class_id, idx, row['id_code']) )"
   ]
  },
  {
   "cell_type": "code",
   "execution_count": 79,
   "id": "8705bd2f",
   "metadata": {},
   "outputs": [],
   "source": [
    "def crop_image1(img,tol=7):\n",
    "    # img is image data\n",
    "    # tol  is tolerance\n",
    "        \n",
    "    mask = img>tol\n",
    "    return img[np.ix_(mask.any(1),mask.any(0))]\n",
    "\n",
    "def crop_image_from_gray(img,tol=7):\n",
    "    if img.ndim ==2:\n",
    "        mask = img>tol\n",
    "        return img[np.ix_(mask.any(1),mask.any(0))]\n",
    "    elif img.ndim==3:\n",
    "        gray_img = cv2.cvtColor(img, cv2.COLOR_RGB2GRAY)\n",
    "        mask = gray_img>tol\n",
    "        \n",
    "        check_shape = img[:,:,0][np.ix_(mask.any(1),mask.any(0))].shape[0]\n",
    "        if (check_shape == 0): # image is too dark so that we crop out everything,\n",
    "            return img # return original image\n",
    "        else:\n",
    "            img1=img[:,:,0][np.ix_(mask.any(1),mask.any(0))]\n",
    "            img2=img[:,:,1][np.ix_(mask.any(1),mask.any(0))]\n",
    "            img3=img[:,:,2][np.ix_(mask.any(1),mask.any(0))]\n",
    "    #         print(img1.shape,img2.shape,img3.shape)\n",
    "            img = np.stack([img1,img2,img3],axis=-1)\n",
    "    #         print(img.shape)\n",
    "        return img"
   ]
  },
  {
   "cell_type": "code",
   "execution_count": 80,
   "id": "0eea5313",
   "metadata": {},
   "outputs": [],
   "source": [
    "# OLD version of image color cropping, use crop_image_from_gray instead\n",
    "# The above code work only for 1-channel. Here is my simple extension for 3-channels image\n",
    "def crop_image(img,tol=7):\n",
    "    if img.ndim ==2:\n",
    "        mask = img>tol\n",
    "        return img[np.ix_(mask.any(1),mask.any(0))]\n",
    "    elif img.ndim==3:\n",
    "        h,w,_=img.shape\n",
    "#         print(h,w)\n",
    "        img1=cv2.resize(crop_image1(img[:,:,0]),(w,h))\n",
    "        img2=cv2.resize(crop_image1(img[:,:,1]),(w,h))\n",
    "        img3=cv2.resize(crop_image1(img[:,:,2]),(w,h))\n",
    "        \n",
    "#         print(img1.shape,img2.shape,img3.shape)\n",
    "        img[:,:,0]=img1\n",
    "        img[:,:,1]=img2\n",
    "        img[:,:,2]=img3\n",
    "        return img\n",
    "\n",
    "'''all of these do not work'''\n",
    "\n",
    "def crop_image2(image,threshold=5):\n",
    "    if len(image.shape) == 3:\n",
    "        flatImage = np.max(image, 2)\n",
    "    else:\n",
    "        flatImage = image\n",
    "    assert len(flatImage.shape) == 2\n",
    "\n",
    "    rows = np.where(np.max(flatImage, 0) > threshold)[0]\n",
    "    if rows.size:\n",
    "        cols = np.where(np.max(flatImage, 1) > threshold)[0]\n",
    "        image = image[cols[0]: cols[-1] + 1, rows[0]: rows[-1] + 1]\n",
    "    else:\n",
    "        image = image[:1, :1]\n",
    "\n",
    "    return image\n",
    "\n",
    "def crop_image3(image):\n",
    "    mask = image > 0\n",
    "\n",
    "    # Coordinates of non-black pixels.\n",
    "    coords = np.argwhere(mask)\n",
    "\n",
    "    # Bounding box of non-black pixels.\n",
    "    x0, y0 = coords.min(axis=0)\n",
    "    x1, y1 = coords.max(axis=0) + 1   # slices are exclusive at the top\n",
    "    \n",
    "    # Get the contents of the bounding box.\n",
    "    cropped = image[x0:x1, y0:y1]\n",
    "    return cropped\n",
    "\n",
    "def crop_image4(image):\n",
    "    _,thresh = cv2.threshold(image,1,255,cv2.THRESH_BINARY)\n",
    "    contours,hierarchy = cv2.findContours(thresh,cv2.RETR_EXTERNAL,cv2.CHAIN_APPROX_SIMPLE)\n",
    "    cnt = contours[0]\n",
    "    x,y,w,h = cv2.boundingRect(cnt)\n",
    "    crop = image[y:y+h,x:x+w]\n",
    "    return crop"
   ]
  },
  {
   "cell_type": "code",
   "execution_count": null,
   "id": "3b9ac997",
   "metadata": {},
   "outputs": [],
   "source": [
    "\n"
   ]
  },
  {
   "cell_type": "code",
   "execution_count": 84,
   "id": "523b6b61",
   "metadata": {},
   "outputs": [
    {
     "name": "stdout",
     "output_type": "stream",
     "text": [
      "CPU times: total: 46min 11s\n",
      "Wall time: 14min 56s\n"
     ]
    }
   ],
   "source": [
    "%%time\n",
    "\n",
    "#NUM_SAMP=7\n",
    "#fig = plt.figure(figsize=(25, 16))\n",
    "for class_id in sorted(train_y.unique()):\n",
    "    for i, (idx, row) in enumerate(df_train.loc[df_train['diagnosis'] == class_id].iterrows()):\n",
    "        #ax = fig.add_subplot(5, NUM_SAMP, class_id * NUM_SAMP + i + 1, xticks=[], yticks=[])\n",
    "        path=f\"input/train_images/{row['id_code']}.png\"\n",
    "        image = load_ben_color(path,sigmaX=30)\n",
    "        cv2.imwrite('%d/%s.jpg'%(class_id,row['id_code']),image)\n",
    "       # plt.imshow(image)\n",
    "       # ax.set_title('%d-%d-%s' % (class_id, idx, row['id_code']) )"
   ]
  },
  {
   "cell_type": "code",
   "execution_count": null,
   "id": "2c71520a",
   "metadata": {},
   "outputs": [],
   "source": []
  },
  {
   "cell_type": "code",
   "execution_count": null,
   "id": "de1137f7",
   "metadata": {},
   "outputs": [],
   "source": []
  }
 ],
 "metadata": {
  "kernelspec": {
   "display_name": "Python 3 (ipykernel)",
   "language": "python",
   "name": "python3"
  },
  "language_info": {
   "codemirror_mode": {
    "name": "ipython",
    "version": 3
   },
   "file_extension": ".py",
   "mimetype": "text/x-python",
   "name": "python",
   "nbconvert_exporter": "python",
   "pygments_lexer": "ipython3",
   "version": "3.9.12"
  }
 },
 "nbformat": 4,
 "nbformat_minor": 5
}
